{
 "cells": [
  {
   "cell_type": "code",
   "execution_count": 1,
   "id": "7f7f6869",
   "metadata": {},
   "outputs": [
    {
     "name": "stdout",
     "output_type": "stream",
     "text": [
      "模型已成功載入並設定為評估模式。\n"
     ]
    }
   ],
   "source": [
    "import torch\n",
    "import torch.nn as nn\n",
    "import pandas as pd\n",
    "import numpy as np\n",
    "\n",
    "# 重新定義 LSTMModel 類 (與訓練時的定義完全相同)\n",
    "class LSTMModel(nn.Module):\n",
    "    def __init__(self, input_size, hidden_size, num_layers, output_size):\n",
    "        super(LSTMModel, self).__init__()\n",
    "        self.hidden_size = hidden_size\n",
    "        self.num_layers = num_layers\n",
    "        self.lstm = nn.LSTM(input_size, hidden_size, num_layers, batch_first=True)\n",
    "        self.fc = nn.Linear(hidden_size, output_size)\n",
    "\n",
    "    def forward(self, x):\n",
    "        h0 = torch.zeros(self.num_layers, x.size(0), self.hidden_size).to(x.device)\n",
    "        c0 = torch.zeros(self.num_layers, x.size(0), self.hidden_size).to(x.device)\n",
    "        out, _ = self.lstm(x, (h0, c0))\n",
    "        out = self.fc(out[:, -1, :])\n",
    "        return out\n",
    "\n",
    "# 假設模型訓練時使用的最佳超參數為這些值\n",
    "# 這些值必須與訓練時使用的超參數一致\n",
    "input_size = 2      # 車速和車流量\n",
    "hidden_size = 33    # 請替換為最佳的 hidden_size###############\n",
    "num_layers = 3      # 請替換為最佳的 num_layers################\n",
    "output_size = 1     # 預測車速\n",
    "\n",
    "# 實例化模型\n",
    "loaded_model = LSTMModel(input_size, hidden_size, num_layers, output_size)\n",
    "\n",
    "# 定義模型保存的路徑和檔名 (與保存時一致)\n",
    "model_save_path = 'best_lstm_model.pth'\n",
    "\n",
    "# 載入保存的模型狀態字典\n",
    "loaded_model.load_state_dict(torch.load(model_save_path))\n",
    "loaded_model.eval() # 將模型設定為評估模式，這會關閉 dropout 和 Batch Normalization 等訓練特有的行為\n",
    "print(\"模型已成功載入並設定為評估模式。\")"
   ]
  },
  {
   "cell_type": "code",
   "execution_count": null,
   "id": "00b6f420",
   "metadata": {},
   "outputs": [
    {
     "name": "stdout",
     "output_type": "stream",
     "text": [
      "準備好的預測輸入數據形狀: torch.Size([1, 20, 2])\n"
     ]
    }
   ],
   "source": [
    "# 最新的 N 個時間步的整理好的數據 (csv檔)\n",
    "new_file_path = r\"D:\\緯育課程\\專題\\TJR102_project\\Data_M05A\\m05a_05F0287N_05F0055N_testingDataset.csv\"  #需修改為VM上面的抓取位置##############\n",
    "# 確保這些數據的順序是時間遞增的，且包含 'Avg_speed' 和 'Total_volume' 兩列\n",
    "\n",
    "new_df = pd.read_csv(new_file_path)\n",
    "\n",
    "sequence_length = 40 #############\n",
    "\n",
    "# 取出模型所需的 'sequence_length' 個時間步的資料\n",
    "# 如果您的 sequence_length 是 40，確保 new_df 至少有 40 行數據\n",
    "# 這裡假設 new_df 已經包含了足夠的歷史數據\n",
    "if len(new_df) < sequence_length:\n",
    "    raise ValueError(f\"提供的最新數據不足 {sequence_length} 個時間步來進行預測。\")\n",
    "\n",
    "# 提取最新的 sequence_length 個時間步的特徵\n",
    "# 確保 'Avg_speed' 和 'Total_volume' 的順序與訓練時一致\n",
    "latest_features_np = new_df[['Avg_speed', 'Total_volume']].values[-sequence_length:]\n",
    "\n",
    "# 將 NumPy 陣列轉換為 PyTorch 張量\n",
    "# 並增加一個 batch dimension，使其形狀為 (1, sequence_length, input_size)\n",
    "# 這裡的 '1' 表示一個樣本（單次預測）\n",
    "input_for_prediction = torch.tensor(latest_features_np, dtype=torch.float32).unsqueeze(0)\n",
    "\n",
    "print(f\"準備好的預測輸入數據形狀: {input_for_prediction.shape}\")"
   ]
  },
  {
   "cell_type": "code",
   "execution_count": null,
   "id": "458de7e3",
   "metadata": {},
   "outputs": [
    {
     "name": "stdout",
     "output_type": "stream",
     "text": [
      "預測的下一個時間步平均車速為: 83.03\n"
     ]
    }
   ],
   "source": [
    "# 確保模型處於評估模式 (在載入時已經設定)\n",
    "# loaded_model.eval()\n",
    "\n",
    "# 在進行預測時，禁用梯度計算，這可以節省記憶體並加速計算\n",
    "with torch.no_grad():\n",
    "    predicted_speed_tensor = loaded_model(input_for_prediction)\n",
    "\n",
    "# 將預測結果從 PyTorch 張量轉換回 Python 數值\n",
    "# .squeeze() 用於移除維度為 1 的單個維度 (例如 (1,1) -> 1)\n",
    "# .item() 用於從單個元素張量中提取 Python 數值\n",
    "predicted_average_speed = predicted_speed_tensor.squeeze().item()\n",
    "\n",
    "print(f\"預測的下一個時間步平均車速為: {predicted_average_speed:.2f}\")\n",
    "\n",
    "\n",
    "#將預測結果存成json\n",
    "columns = [\"Speed\"]\n",
    "data = [predicted_average_speed]\n",
    "\n",
    "df = pd.DataFrame(data=data, columns=columns)\n",
    "\n",
    "df.to_json('./predicted_average_speed_1.json', orient=\"records\") #路段1的json，須根據VM上要存的位置修改前面資料夾路徑#################\n",
    "# df.to_json('./predicted_average_speed_2.json', orient=\"records\") #路段2的json，須根據VM上要存的位置修改前面資料夾路徑###############"
   ]
  }
 ],
 "metadata": {
  "kernelspec": {
   "display_name": "tjr102-project-sDjiclj--py3.13",
   "language": "python",
   "name": "python3"
  },
  "language_info": {
   "codemirror_mode": {
    "name": "ipython",
    "version": 3
   },
   "file_extension": ".py",
   "mimetype": "text/x-python",
   "name": "python",
   "nbconvert_exporter": "python",
   "pygments_lexer": "ipython3",
   "version": "3.13.5"
  }
 },
 "nbformat": 4,
 "nbformat_minor": 5
}
