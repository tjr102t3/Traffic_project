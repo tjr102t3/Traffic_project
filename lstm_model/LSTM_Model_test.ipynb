{
 "cells": [
  {
   "cell_type": "code",
   "execution_count": 1,
   "id": "87a77e98",
   "metadata": {},
   "outputs": [],
   "source": [
    "import torch\n",
    "import torch.nn as nn\n",
    "import numpy as np\n",
    "import pandas as pd"
   ]
  },
  {
   "cell_type": "code",
   "execution_count": 2,
   "id": "c7db6fe0",
   "metadata": {},
   "outputs": [
    {
     "name": "stdout",
     "output_type": "stream",
     "text": [
      "2025年測試集的輸入數據形狀: torch.Size([14240, 40, 2])\n",
      "2025年測試集的目標數據形狀: torch.Size([14240])\n"
     ]
    }
   ],
   "source": [
    "# 2025 年的測試資料為 'm05a_05F0287N_05F0055N_testingDataset'\n",
    "test_file_path = r\"D:\\緯育課程\\專題\\TJR102_project\\Data_M05A\\m05a_05F0287N_05F0055N_testingDataset.csv\"\n",
    "\n",
    "# 載入 2025 年的測試資料\n",
    "def load_data(test_file_path):\n",
    "    df = pd.read_csv(test_file_path)\n",
    "    # 確保資料是按照時間排序的\n",
    "    # 如果您的資料沒有時間戳記或已確保排序，可以省略這一步\n",
    "    # df = df.sort_values(by='時間戳記') # 假設有時間戳記列\n",
    "\n",
    "    # 將特徵轉換為 PyTorch 張量\n",
    "    # 使用 'Avg_speed' 和 'Total_volume' 為特徵\n",
    "    # 並且Avg_speed是我們要預測的目標變數\n",
    "    test_features = df[['Avg_speed', 'Total_volume']].values # 輸入特徵\n",
    "    test_target = df['Avg_speed'].values # 預測目標\n",
    "\n",
    "    # 將 numpy 陣列轉換為 PyTorch 張量\n",
    "    test_features = torch.tensor(test_features, dtype=torch.float32)\n",
    "    test_target = torch.tensor(test_target, dtype=torch.float32)\n",
    "    return test_features, test_target\n",
    "\n",
    "test_features, test_target = load_data(test_file_path)\n",
    "\n",
    "# 使用與訓練集相同的 sequence_length 進行序列化  ####這邊還要從Model_build搬code過來\n",
    "def create_sequences(test_features, test_target, sequence_length):\n",
    "    xs, ys = [], []\n",
    "    for i in range(len(test_features) - sequence_length):\n",
    "        x = test_features[i:(i + sequence_length)]\n",
    "        y = test_target[i + sequence_length]\n",
    "        xs.append(x)\n",
    "        ys.append(y)\n",
    "    return torch.stack(xs), torch.stack(ys)\n",
    "\n",
    "sequence_length = 40 \n",
    "X_test, y_test = create_sequences(test_features, test_target, sequence_length)\n",
    "\n",
    "print(f\"2025年測試集的輸入數據形狀: {X_test.shape}\")\n",
    "print(f\"2025年測試集的目標數據形狀: {y_test.shape}\")"
   ]
  },
  {
   "cell_type": "code",
   "execution_count": 3,
   "id": "c8c3c605",
   "metadata": {},
   "outputs": [
    {
     "name": "stdout",
     "output_type": "stream",
     "text": [
      "模型已成功載入並設定為評估模式。\n"
     ]
    }
   ],
   "source": [
    "# 定義 LSTMModel class（確保結構與訓練時完全一致）\n",
    "class LSTMModel(nn.Module):\n",
    "    def __init__(self, input_size, hidden_size, num_layers, output_size):\n",
    "        super(LSTMModel, self).__init__()\n",
    "        self.hidden_size = hidden_size\n",
    "        self.num_layers = num_layers\n",
    "        self.lstm = nn.LSTM(input_size, hidden_size, num_layers, batch_first=True)\n",
    "        self.fc = nn.Linear(hidden_size, output_size)\n",
    "\n",
    "    def forward(self, x):\n",
    "        # 初始化隱藏狀態和細胞狀態\n",
    "        h0 = torch.zeros(self.num_layers, x.size(0), self.hidden_size).to(x.device)\n",
    "        c0 = torch.zeros(self.num_layers, x.size(0), self.hidden_size).to(x.device)\n",
    "\n",
    "        # LSTM 傳播\n",
    "        out, _ = self.lstm(x, (h0, c0))\n",
    "\n",
    "        # 取最後一個時間步的輸出\n",
    "        out = self.fc(out[:, -1, :])\n",
    "        return out\n",
    "\n",
    "# 實例化模型，並確保超參數與訓練時一致\n",
    "input_size = 2      \n",
    "hidden_size = 33    # 使用最佳的 hidden_size################\n",
    "num_layers = 3      # 使用最佳的 num_layers#################\n",
    "output_size = 1     \n",
    "\n",
    "loaded_model = LSTMModel(input_size, hidden_size, num_layers, output_size)\n",
    "\n",
    "# 載入訓練好的權重\n",
    "model_save_path = 'best_lstm_model.pth'  #若best_lstm_model.pth這個檔案不在當前資料夾，需放檔案絕對路徑\n",
    "loaded_model.load_state_dict(torch.load(model_save_path))\n",
    "\n",
    "# 將模型設定為評估模式\n",
    "loaded_model.eval()\n",
    "print(\"模型已成功載入並設定為評估模式。\")"
   ]
  },
  {
   "cell_type": "code",
   "execution_count": 4,
   "id": "05361335",
   "metadata": {},
   "outputs": [
    {
     "name": "stdout",
     "output_type": "stream",
     "text": [
      "模型在 2025 年測試集上的 MAPE: 2.41%\n"
     ]
    }
   ],
   "source": [
    "from torch.utils.data import DataLoader, TensorDataset\n",
    "\n",
    "# 將測試資料打包成 TensorDataset 和 DataLoader\n",
    "test_dataset = TensorDataset(X_test, y_test)\n",
    "test_loader = DataLoader(test_dataset, batch_size=64, shuffle=False) # 評估時通常不用 shuffle\n",
    "\n",
    "test_predictions = []\n",
    "test_actuals = []\n",
    "\n",
    "# 禁用梯度計算以加速評估，並確保模型不會被修改\n",
    "with torch.no_grad():\n",
    "    for batch_X, batch_y in test_loader:\n",
    "        # 進行前向傳播\n",
    "        outputs = loaded_model(batch_X)\n",
    "\n",
    "        # 收集預測結果和真實值\n",
    "        test_predictions.extend(outputs.squeeze().tolist())\n",
    "        test_actuals.extend(batch_y.tolist())\n",
    "\n",
    "# 將結果轉換為 numpy 陣列以便計算 MAPE\n",
    "test_predictions = np.array(test_predictions)\n",
    "test_actuals = np.array(test_actuals)\n",
    "\n",
    "# 計算 MAPE\n",
    "def mean_absolute_percentage_error(y_true, y_pred):\n",
    "    non_zero_indices = y_true != 0\n",
    "    y_true_filtered = y_true[non_zero_indices]\n",
    "    y_pred_filtered = y_pred[non_zero_indices]\n",
    "    \n",
    "    if len(y_true_filtered) == 0:\n",
    "        return float('inf')\n",
    "\n",
    "    return np.mean(np.abs((y_true_filtered - y_pred_filtered) / y_true_filtered)) * 100\n",
    "\n",
    "mape_on_2025_data = mean_absolute_percentage_error(test_actuals, test_predictions)\n",
    "print(f\"模型在 2025 年測試集上的 MAPE: {mape_on_2025_data:.2f}%\")"
   ]
  }
 ],
 "metadata": {
  "kernelspec": {
   "display_name": "tjr102-project-sDjiclj--py3.13",
   "language": "python",
   "name": "python3"
  },
  "language_info": {
   "codemirror_mode": {
    "name": "ipython",
    "version": 3
   },
   "file_extension": ".py",
   "mimetype": "text/x-python",
   "name": "python",
   "nbconvert_exporter": "python",
   "pygments_lexer": "ipython3",
   "version": "3.13.5"
  }
 },
 "nbformat": 4,
 "nbformat_minor": 5
}
